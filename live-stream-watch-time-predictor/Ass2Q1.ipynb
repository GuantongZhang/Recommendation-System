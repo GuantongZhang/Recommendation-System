{
 "cells": [
  {
   "cell_type": "code",
   "execution_count": 72,
   "id": "9ae27807",
   "metadata": {},
   "outputs": [],
   "source": [
    "# starter\n",
    "import csv\n",
    "import pandas as pd\n",
    "import matplotlib.pyplot as plt\n",
    "\n",
    "from collections import defaultdict\n",
    "import numpy as np\n",
    "from sklearn import linear_model"
   ]
  },
  {
   "cell_type": "code",
   "execution_count": 142,
   "id": "3e2bf81d",
   "metadata": {},
   "outputs": [],
   "source": [
    "data = []\n",
    "with open('100k_a.csv', mode ='r') as file:\n",
    "    csvFile = csv.reader(file)\n",
    "    for lines in csvFile:\n",
    "        data.append(lines) # u, sid, s, start, stop"
   ]
  },
  {
   "cell_type": "code",
   "execution_count": 42,
   "id": "9d5b4ae7",
   "metadata": {},
   "outputs": [
    {
     "data": {
      "text/plain": [
       "['1', '33842865744', 'mithrain', '154', '156']"
      ]
     },
     "execution_count": 42,
     "metadata": {},
     "output_type": "execute_result"
    }
   ],
   "source": [
    "data[0]"
   ]
  },
  {
   "cell_type": "code",
   "execution_count": 49,
   "id": "05ce16ed",
   "metadata": {
    "scrolled": true
   },
   "outputs": [
    {
     "data": {
      "text/html": [
       "<div>\n",
       "<style scoped>\n",
       "    .dataframe tbody tr th:only-of-type {\n",
       "        vertical-align: middle;\n",
       "    }\n",
       "\n",
       "    .dataframe tbody tr th {\n",
       "        vertical-align: top;\n",
       "    }\n",
       "\n",
       "    .dataframe thead th {\n",
       "        text-align: right;\n",
       "    }\n",
       "</style>\n",
       "<table border=\"1\" class=\"dataframe\">\n",
       "  <thead>\n",
       "    <tr style=\"text-align: right;\">\n",
       "      <th></th>\n",
       "      <th>user</th>\n",
       "      <th>stream_id</th>\n",
       "      <th>streamer</th>\n",
       "      <th>start</th>\n",
       "      <th>stop</th>\n",
       "    </tr>\n",
       "  </thead>\n",
       "  <tbody>\n",
       "    <tr>\n",
       "      <th>0</th>\n",
       "      <td>1</td>\n",
       "      <td>33842865744</td>\n",
       "      <td>mithrain</td>\n",
       "      <td>154</td>\n",
       "      <td>156</td>\n",
       "    </tr>\n",
       "    <tr>\n",
       "      <th>1</th>\n",
       "      <td>1</td>\n",
       "      <td>33846768288</td>\n",
       "      <td>alptv</td>\n",
       "      <td>166</td>\n",
       "      <td>169</td>\n",
       "    </tr>\n",
       "    <tr>\n",
       "      <th>2</th>\n",
       "      <td>1</td>\n",
       "      <td>33886469056</td>\n",
       "      <td>mithrain</td>\n",
       "      <td>587</td>\n",
       "      <td>588</td>\n",
       "    </tr>\n",
       "    <tr>\n",
       "      <th>3</th>\n",
       "      <td>1</td>\n",
       "      <td>33887624992</td>\n",
       "      <td>wtcn</td>\n",
       "      <td>589</td>\n",
       "      <td>591</td>\n",
       "    </tr>\n",
       "    <tr>\n",
       "      <th>4</th>\n",
       "      <td>1</td>\n",
       "      <td>33890145056</td>\n",
       "      <td>jrokezftw</td>\n",
       "      <td>591</td>\n",
       "      <td>594</td>\n",
       "    </tr>\n",
       "    <tr>\n",
       "      <th>...</th>\n",
       "      <td>...</td>\n",
       "      <td>...</td>\n",
       "      <td>...</td>\n",
       "      <td>...</td>\n",
       "      <td>...</td>\n",
       "    </tr>\n",
       "    <tr>\n",
       "      <th>3051728</th>\n",
       "      <td>100000</td>\n",
       "      <td>34167930576</td>\n",
       "      <td>mckytv</td>\n",
       "      <td>3582</td>\n",
       "      <td>3583</td>\n",
       "    </tr>\n",
       "    <tr>\n",
       "      <th>3051729</th>\n",
       "      <td>100000</td>\n",
       "      <td>34168288656</td>\n",
       "      <td>natehill</td>\n",
       "      <td>3582</td>\n",
       "      <td>3583</td>\n",
       "    </tr>\n",
       "    <tr>\n",
       "      <th>3051730</th>\n",
       "      <td>100000</td>\n",
       "      <td>34169594512</td>\n",
       "      <td>fortnite</td>\n",
       "      <td>3582</td>\n",
       "      <td>3584</td>\n",
       "    </tr>\n",
       "    <tr>\n",
       "      <th>3051731</th>\n",
       "      <td>100000</td>\n",
       "      <td>34180223072</td>\n",
       "      <td>highdistortion</td>\n",
       "      <td>3709</td>\n",
       "      <td>3711</td>\n",
       "    </tr>\n",
       "    <tr>\n",
       "      <th>3051732</th>\n",
       "      <td>100000</td>\n",
       "      <td>34181187808</td>\n",
       "      <td>symfuhny</td>\n",
       "      <td>3706</td>\n",
       "      <td>3708</td>\n",
       "    </tr>\n",
       "  </tbody>\n",
       "</table>\n",
       "<p>3051733 rows × 5 columns</p>\n",
       "</div>"
      ],
      "text/plain": [
       "           user    stream_id        streamer  start  stop\n",
       "0             1  33842865744        mithrain    154   156\n",
       "1             1  33846768288           alptv    166   169\n",
       "2             1  33886469056        mithrain    587   588\n",
       "3             1  33887624992            wtcn    589   591\n",
       "4             1  33890145056       jrokezftw    591   594\n",
       "...         ...          ...             ...    ...   ...\n",
       "3051728  100000  34167930576          mckytv   3582  3583\n",
       "3051729  100000  34168288656        natehill   3582  3583\n",
       "3051730  100000  34169594512        fortnite   3582  3584\n",
       "3051731  100000  34180223072  highdistortion   3709  3711\n",
       "3051732  100000  34181187808        symfuhny   3706  3708\n",
       "\n",
       "[3051733 rows x 5 columns]"
      ]
     },
     "execution_count": 49,
     "metadata": {},
     "output_type": "execute_result"
    }
   ],
   "source": [
    "df = pd.read_csv('100k_a.csv', header=None)\n",
    "df.columns =['user', 'stream_id', 'streamer', 'start', 'stop']\n",
    "df"
   ]
  },
  {
   "cell_type": "code",
   "execution_count": 67,
   "id": "b19a09f8",
   "metadata": {},
   "outputs": [],
   "source": [
    "df['interval'] = df['stop'] - df['start']"
   ]
  },
  {
   "cell_type": "code",
   "execution_count": 204,
   "id": "f3fc5fe9",
   "metadata": {},
   "outputs": [
    {
     "data": {
      "text/plain": [
       "interval\n",
       "1     1559891\n",
       "2      498252\n",
       "3      263958\n",
       "4      168944\n",
       "5      115769\n",
       "       ...   \n",
       "84          3\n",
       "88          2\n",
       "90          2\n",
       "92          3\n",
       "97          1\n",
       "Name: user, Length: 86, dtype: int64"
      ]
     },
     "execution_count": 204,
     "metadata": {},
     "output_type": "execute_result"
    }
   ],
   "source": [
    "interval_count = df.groupby('interval').count()['user']\n",
    "interval_count"
   ]
  },
  {
   "cell_type": "code",
   "execution_count": 201,
   "id": "b476acd2",
   "metadata": {},
   "outputs": [],
   "source": [
    "X = (np.array(list(interval_count.keys()))).reshape(-1, 1)\n",
    "y = np.array(list(dict(interval_count).values()))\n",
    "reg = linear_model.LinearRegression().fit(X, np.log(y))"
   ]
  },
  {
   "cell_type": "code",
   "execution_count": 202,
   "id": "93a126bc",
   "metadata": {},
   "outputs": [
    {
     "data": {
      "text/plain": [
       "0.965280831904641"
      ]
     },
     "execution_count": 202,
     "metadata": {},
     "output_type": "execute_result"
    }
   ],
   "source": [
    "reg.score(X, np.log(y))"
   ]
  },
  {
   "cell_type": "raw",
   "id": "fae52c31",
   "metadata": {},
   "source": [
    "reg.coef_[0]"
   ]
  },
  {
   "cell_type": "code",
   "execution_count": 190,
   "id": "c38f6aa0",
   "metadata": {},
   "outputs": [
    {
     "data": {
      "text/plain": [
       "11.62539382132372"
      ]
     },
     "execution_count": 190,
     "metadata": {},
     "output_type": "execute_result"
    }
   ],
   "source": [
    "reg.intercept_"
   ]
  },
  {
   "cell_type": "code",
   "execution_count": 200,
   "id": "83e0b764",
   "metadata": {
    "scrolled": false
   },
   "outputs": [
    {
     "data": {
      "image/png": "[encoded data removed]",
      "text/plain": [
       "<Figure size 432x288 with 1 Axes>"
      ]
     },
     "metadata": {
      "needs_background": "light"
     },
     "output_type": "display_data"
    }
   ],
   "source": [
    "plt.bar(interval_count.keys(), np.log(np.array(list(dict(interval_count).values()))))\n",
    "plt.axline((0, reg.intercept_), slope=reg.coef_[0], color='red')\n",
    "plt.xlabel('Time Interval / 10 min')\n",
    "plt.ylabel('log Number of Watching Periods')\n",
    "plt.show()"
   ]
  },
  {
   "cell_type": "code",
   "execution_count": null,
   "id": "9f6f35b5",
   "metadata": {},
   "outputs": [],
   "source": []
  }
 ],
 "metadata": {
  "kernelspec": {
   "display_name": "Python 3 (ipykernel)",
   "language": "python",
   "name": "python3"
  },
  "language_info": {
   "codemirror_mode": {
    "name": "ipython",
    "version": 3
   },
   "file_extension": ".py",
   "mimetype": "text/x-python",
   "name": "python",
   "nbconvert_exporter": "python",
   "pygments_lexer": "ipython3",
   "version": "3.9.7"
  }
 },
 "nbformat": 4,
 "nbformat_minor": 5
}
